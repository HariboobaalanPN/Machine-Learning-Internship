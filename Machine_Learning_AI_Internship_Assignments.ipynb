{
  "nbformat": 4,
  "nbformat_minor": 0,
  "metadata": {
    "colab": {
      "name": "Machine Learning / AI - Internship Assignments.ipynb",
      "provenance": [],
      "collapsed_sections": [],
      "include_colab_link": true
    },
    "kernelspec": {
      "name": "python3",
      "display_name": "Python 3"
    },
    "language_info": {
      "name": "python"
    }
  },
  "cells": [
    {
      "cell_type": "markdown",
      "metadata": {
        "id": "view-in-github",
        "colab_type": "text"
      },
      "source": [
        "<a href=\"https://colab.research.google.com/github/HariboobaalanPN/Machine-Learning-Internship/blob/main/Machine_Learning_AI_Internship_Assignments.ipynb\" target=\"_parent\"><img src=\"https://colab.research.google.com/assets/colab-badge.svg\" alt=\"Open In Colab\"/></a>"
      ]
    },
    {
      "cell_type": "markdown",
      "metadata": {
        "id": "Y9_-TQa3tInb"
      },
      "source": [
        "#***-by HARIBOOBAALAN P N***"
      ]
    },
    {
      "cell_type": "markdown",
      "metadata": {
        "id": "5hwd0ymdWo-m"
      },
      "source": [
        "#12/05/2021"
      ]
    },
    {
      "cell_type": "markdown",
      "metadata": {
        "id": "O9N_ukbg62O6"
      },
      "source": [
        "##Assignment -1 -> Displaying DataSet using Pandas"
      ]
    },
    {
      "cell_type": "markdown",
      "metadata": {
        "id": "-rLCnAjS68RV"
      },
      "source": [
        "###Importing required modules"
      ]
    },
    {
      "cell_type": "code",
      "metadata": {
        "id": "DdEvuC_cyUpj"
      },
      "source": [
        "import pandas as pd"
      ],
      "execution_count": null,
      "outputs": []
    },
    {
      "cell_type": "markdown",
      "metadata": {
        "id": "l2jUkkkV7IAg"
      },
      "source": [
        "###Read CSV using pandas & convert to DataFrame"
      ]
    },
    {
      "cell_type": "code",
      "metadata": {
        "id": "irGy1fTYWHKn"
      },
      "source": [
        "yt_comment_df=pd.read_csv(\"https://raw.githubusercontent.com/HariboobaalanPN/Machine-Learning-Internship/main/Hari(eYq7WapuDLU).csv\")"
      ],
      "execution_count": null,
      "outputs": []
    },
    {
      "cell_type": "markdown",
      "metadata": {
        "id": "9nBZNJfu7RK8"
      },
      "source": [
        "###Displaying the content of DataFrame"
      ]
    },
    {
      "cell_type": "code",
      "metadata": {
        "id": "goyDaA-ogW1s",
        "colab": {
          "base_uri": "https://localhost:8080/",
          "height": 670
        },
        "outputId": "85617aac-8e7e-493a-f936-f6151e80493d"
      },
      "source": [
        "yt_comment_df"
      ],
      "execution_count": null,
      "outputs": [
        {
          "output_type": "execute_result",
          "data": {
            "text/html": [
              "<div>\n",
              "<style scoped>\n",
              "    .dataframe tbody tr th:only-of-type {\n",
              "        vertical-align: middle;\n",
              "    }\n",
              "\n",
              "    .dataframe tbody tr th {\n",
              "        vertical-align: top;\n",
              "    }\n",
              "\n",
              "    .dataframe thead th {\n",
              "        text-align: right;\n",
              "    }\n",
              "</style>\n",
              "<table border=\"1\" class=\"dataframe\">\n",
              "  <thead>\n",
              "    <tr style=\"text-align: right;\">\n",
              "      <th></th>\n",
              "      <th>Unnamed: 0</th>\n",
              "      <th>cid</th>\n",
              "      <th>text</th>\n",
              "      <th>time</th>\n",
              "      <th>author</th>\n",
              "      <th>channel</th>\n",
              "      <th>votes</th>\n",
              "      <th>photo</th>\n",
              "      <th>heart</th>\n",
              "    </tr>\n",
              "  </thead>\n",
              "  <tbody>\n",
              "    <tr>\n",
              "      <th>0</th>\n",
              "      <td>0</td>\n",
              "      <td>Ugydp2BhL4reTch7S_l4AaABAg</td>\n",
              "      <td>Poliii</td>\n",
              "      <td>32 minutes ago</td>\n",
              "      <td>nithya and friends</td>\n",
              "      <td>UCPWgQV1U5AyNnAcl7hkIi2A</td>\n",
              "      <td>0</td>\n",
              "      <td>https://yt3.ggpht.com/ytc/AAUvwnhQdMhUWxImRJKQ...</td>\n",
              "      <td>False</td>\n",
              "    </tr>\n",
              "    <tr>\n",
              "      <th>1</th>\n",
              "      <td>1</td>\n",
              "      <td>UgwNtyDFguc4VvlTVkJ4AaABAg</td>\n",
              "      <td>200M 😍😍</td>\n",
              "      <td>27 minutes ago</td>\n",
              "      <td>Shahida Pk</td>\n",
              "      <td>UCpwxU4KLqUuipuB3Lcns9YA</td>\n",
              "      <td>0</td>\n",
              "      <td>https://yt3.ggpht.com/ytc/AAUvwnjlHUsCp47GG0ap...</td>\n",
              "      <td>False</td>\n",
              "    </tr>\n",
              "    <tr>\n",
              "      <th>2</th>\n",
              "      <td>2</td>\n",
              "      <td>UgzHO5tjJ64sxwNbqRZ4AaABAg</td>\n",
              "      <td>💔💓💥💥</td>\n",
              "      <td>27 minutes ago</td>\n",
              "      <td>Moorthi Gokul</td>\n",
              "      <td>UCPx1Z1rnuY06LSW-vrMusGg</td>\n",
              "      <td>0</td>\n",
              "      <td>https://yt3.ggpht.com/ytc/AAUvwnghkVRI54kN-F1h...</td>\n",
              "      <td>False</td>\n",
              "    </tr>\n",
              "    <tr>\n",
              "      <th>3</th>\n",
              "      <td>3</td>\n",
              "      <td>UgwpXq14_IiqOh-muiB4AaABAg</td>\n",
              "      <td>Good song</td>\n",
              "      <td>26 minutes ago</td>\n",
              "      <td>Madhumita videos dance 🩰</td>\n",
              "      <td>UCOy1To6db4tkiXKN1yisjqw</td>\n",
              "      <td>0</td>\n",
              "      <td>https://yt3.ggpht.com/xNjy_fjO_ppq3bXdltR1a5b0...</td>\n",
              "      <td>False</td>\n",
              "    </tr>\n",
              "    <tr>\n",
              "      <th>4</th>\n",
              "      <td>4</td>\n",
              "      <td>Ugy9ymIMv4nfCmGcwFx4AaABAg</td>\n",
              "      <td>I love this song 🎵❤️(From France 🇫🇷)</td>\n",
              "      <td>25 minutes ago</td>\n",
              "      <td>Thaya Vaithi</td>\n",
              "      <td>UCqVirCvmAgsWYNLsH-OAv1w</td>\n",
              "      <td>0</td>\n",
              "      <td>https://yt3.ggpht.com/ytc/AAUvwnh-wj3HQa-wszL8...</td>\n",
              "      <td>False</td>\n",
              "    </tr>\n",
              "    <tr>\n",
              "      <th>...</th>\n",
              "      <td>...</td>\n",
              "      <td>...</td>\n",
              "      <td>...</td>\n",
              "      <td>...</td>\n",
              "      <td>...</td>\n",
              "      <td>...</td>\n",
              "      <td>...</td>\n",
              "      <td>...</td>\n",
              "      <td>...</td>\n",
              "    </tr>\n",
              "    <tr>\n",
              "      <th>995</th>\n",
              "      <td>995</td>\n",
              "      <td>Ugz8KkJvqiI8yFDDDZN4AaABAg</td>\n",
              "      <td>I don't understand this song but still listing...</td>\n",
              "      <td>20 hours ago</td>\n",
              "      <td>play movies</td>\n",
              "      <td>UCo3dfj3QydN_ucAfNQAu-NA</td>\n",
              "      <td>1</td>\n",
              "      <td>https://yt3.ggpht.com/ytc/AAUvwnifwShd1L7yeToh...</td>\n",
              "      <td>False</td>\n",
              "    </tr>\n",
              "    <tr>\n",
              "      <th>996</th>\n",
              "      <td>996</td>\n",
              "      <td>Ugx_9mtvFHeILUzBmN54AaABAg</td>\n",
              "      <td>Super team....'❤️200❤️' million views</td>\n",
              "      <td>20 hours ago</td>\n",
              "      <td>Sathyapriya Sakthivel</td>\n",
              "      <td>UCprrlXjxyDnHKKcX92ZGMqg</td>\n",
              "      <td>1</td>\n",
              "      <td>https://yt3.ggpht.com/ytc/AAUvwnirOQVaLa-atQJv...</td>\n",
              "      <td>False</td>\n",
              "    </tr>\n",
              "    <tr>\n",
              "      <th>997</th>\n",
              "      <td>997</td>\n",
              "      <td>UgxWRnvpt3-VvoAoVt14AaABAg</td>\n",
              "      <td>Who is all addicted to the song?\\n👍</td>\n",
              "      <td>20 hours ago</td>\n",
              "      <td>Katz In Wonderland</td>\n",
              "      <td>UCQ5f01Aa5awKrf-5eqXFpag</td>\n",
              "      <td>1</td>\n",
              "      <td>https://yt3.ggpht.com/ytc/AAUvwnj6jLU1nM82WmKE...</td>\n",
              "      <td>False</td>\n",
              "    </tr>\n",
              "    <tr>\n",
              "      <th>998</th>\n",
              "      <td>998</td>\n",
              "      <td>UgyAkKZYfyNOp7qC25x4AaABAg</td>\n",
              "      <td>200 million 💪🏻💪🏻💪🏻💪🏻</td>\n",
              "      <td>20 hours ago</td>\n",
              "      <td>8D THAMIZHA</td>\n",
              "      <td>UCxbrn7CvcZzvh5VlFWdfBmw</td>\n",
              "      <td>1</td>\n",
              "      <td>https://yt3.ggpht.com/ytc/AAUvwnjDuueBQVf69t_J...</td>\n",
              "      <td>False</td>\n",
              "    </tr>\n",
              "    <tr>\n",
              "      <th>999</th>\n",
              "      <td>999</td>\n",
              "      <td>UgwCYxpf6WC_nyQ5NPR4AaABAg</td>\n",
              "      <td>Superb song 😍</td>\n",
              "      <td>20 hours ago</td>\n",
              "      <td>Abhijit Kamble</td>\n",
              "      <td>UCM1s4cnPTqdishYt8mvR7_A</td>\n",
              "      <td>0</td>\n",
              "      <td>https://yt3.ggpht.com/ytc/AAUvwng8QuFUmkiySsT9...</td>\n",
              "      <td>False</td>\n",
              "    </tr>\n",
              "  </tbody>\n",
              "</table>\n",
              "<p>1000 rows × 9 columns</p>\n",
              "</div>"
            ],
            "text/plain": [
              "     Unnamed: 0  ...  heart\n",
              "0             0  ...  False\n",
              "1             1  ...  False\n",
              "2             2  ...  False\n",
              "3             3  ...  False\n",
              "4             4  ...  False\n",
              "..          ...  ...    ...\n",
              "995         995  ...  False\n",
              "996         996  ...  False\n",
              "997         997  ...  False\n",
              "998         998  ...  False\n",
              "999         999  ...  False\n",
              "\n",
              "[1000 rows x 9 columns]"
            ]
          },
          "metadata": {
            "tags": []
          },
          "execution_count": 30
        }
      ]
    },
    {
      "cell_type": "markdown",
      "metadata": {
        "id": "d8UakEmYWtw5"
      },
      "source": [
        "#13/05/2021"
      ]
    },
    {
      "cell_type": "markdown",
      "metadata": {
        "id": "ABDiQUrX7tKg"
      },
      "source": [
        "##Assignment - 1 ( Dictionary and Nested Dictionary)"
      ]
    },
    {
      "cell_type": "markdown",
      "metadata": {
        "id": "pcbxtWP_7-mr"
      },
      "source": [
        "###Create a Dictionary"
      ]
    },
    {
      "cell_type": "code",
      "metadata": {
        "id": "gAS6r_kuWyEk",
        "colab": {
          "base_uri": "https://localhost:8080/"
        },
        "outputId": "477e191a-2ba1-4442-d0a8-9316c08b0b12"
      },
      "source": [
        "Dict=dict({'Name':'Hari','Age':19,'Domain':'Machine Learning'})\n",
        "Dict"
      ],
      "execution_count": null,
      "outputs": [
        {
          "output_type": "execute_result",
          "data": {
            "text/plain": [
              "{'Age': 19, 'Domain': 'Machine Learning', 'Name': 'Hari'}"
            ]
          },
          "metadata": {
            "tags": []
          },
          "execution_count": 31
        }
      ]
    },
    {
      "cell_type": "markdown",
      "metadata": {
        "id": "rVB2TYyr8Qmi"
      },
      "source": [
        "###Create a Nested Dictionary\n"
      ]
    },
    {
      "cell_type": "code",
      "metadata": {
        "id": "8pIVrzaL8WO8",
        "colab": {
          "base_uri": "https://localhost:8080/"
        },
        "outputId": "56712844-6eff-4209-a755-e698cfdc399e"
      },
      "source": [
        "Nested_Dict=({1:{'Name':'Hari','Age':19,'Domain':'Machine Learning'},2:{'Name':'Harsha','Age':18,'Domain':'Web Development'},3:{'Name':'Harshith','Age':18,'Domain':'Cyber Security'}})\n",
        "Nested_Dict"
      ],
      "execution_count": null,
      "outputs": [
        {
          "output_type": "execute_result",
          "data": {
            "text/plain": [
              "{1: {'Age': 19, 'Domain': 'Machine Learning', 'Name': 'Hari'},\n",
              " 2: {'Age': 18, 'Domain': 'Web Development', 'Name': 'Harsha'},\n",
              " 3: {'Age': 18, 'Domain': 'Cyber Security', 'Name': 'Harshith'}}"
            ]
          },
          "metadata": {
            "tags": []
          },
          "execution_count": 32
        }
      ]
    },
    {
      "cell_type": "markdown",
      "metadata": {
        "id": "wfoa9oAJ88T7"
      },
      "source": [
        "##Assignment-2 ( Data Visualisation using Matplotlib & Seaborn)"
      ]
    },
    {
      "cell_type": "markdown",
      "metadata": {
        "id": "pxq6TbZT9HUo"
      },
      "source": [
        "###Importing required Modules"
      ]
    },
    {
      "cell_type": "code",
      "metadata": {
        "id": "5OuBbdPu9FwB"
      },
      "source": [
        "import matplotlib.pyplot as plt\n",
        "import pandas as pd\n"
      ],
      "execution_count": null,
      "outputs": []
    },
    {
      "cell_type": "markdown",
      "metadata": {
        "id": "fvH3hmbf9ShS"
      },
      "source": [
        "###Create a DataFrame for the DataSet"
      ]
    },
    {
      "cell_type": "code",
      "metadata": {
        "id": "ghvuhznS9bVt",
        "colab": {
          "base_uri": "https://localhost:8080/",
          "height": 402
        },
        "outputId": "f1cb6594-ab37-4afb-fdb2-2022039ae5da"
      },
      "source": [
        "emoji_df = pd.read_csv('https://raw.githubusercontent.com/HariboobaalanPN/Machine-Learning-Internship/main/Emoji_Data.csv')\n",
        "emoji_df"
      ],
      "execution_count": null,
      "outputs": [
        {
          "output_type": "execute_result",
          "data": {
            "text/html": [
              "<div>\n",
              "<style scoped>\n",
              "    .dataframe tbody tr th:only-of-type {\n",
              "        vertical-align: middle;\n",
              "    }\n",
              "\n",
              "    .dataframe tbody tr th {\n",
              "        vertical-align: top;\n",
              "    }\n",
              "\n",
              "    .dataframe thead th {\n",
              "        text-align: right;\n",
              "    }\n",
              "</style>\n",
              "<table border=\"1\" class=\"dataframe\">\n",
              "  <thead>\n",
              "    <tr style=\"text-align: right;\">\n",
              "      <th></th>\n",
              "      <th>Emoji</th>\n",
              "      <th>Unicode codepoint</th>\n",
              "      <th>Occurrences</th>\n",
              "      <th>Position</th>\n",
              "      <th>Negative</th>\n",
              "      <th>Neutral</th>\n",
              "      <th>Positive</th>\n",
              "      <th>Unicode name</th>\n",
              "      <th>Unicode block</th>\n",
              "    </tr>\n",
              "  </thead>\n",
              "  <tbody>\n",
              "    <tr>\n",
              "      <th>0</th>\n",
              "      <td>😂</td>\n",
              "      <td>0x1f602</td>\n",
              "      <td>14622</td>\n",
              "      <td>0.805101</td>\n",
              "      <td>3614</td>\n",
              "      <td>4163</td>\n",
              "      <td>6845</td>\n",
              "      <td>FACE WITH TEARS OF JOY</td>\n",
              "      <td>Emoticons</td>\n",
              "    </tr>\n",
              "    <tr>\n",
              "      <th>1</th>\n",
              "      <td>❤</td>\n",
              "      <td>0x2764</td>\n",
              "      <td>8050</td>\n",
              "      <td>0.746943</td>\n",
              "      <td>355</td>\n",
              "      <td>1334</td>\n",
              "      <td>6361</td>\n",
              "      <td>HEAVY BLACK HEART</td>\n",
              "      <td>Dingbats</td>\n",
              "    </tr>\n",
              "    <tr>\n",
              "      <th>2</th>\n",
              "      <td>♥</td>\n",
              "      <td>0x2665</td>\n",
              "      <td>7144</td>\n",
              "      <td>0.753806</td>\n",
              "      <td>252</td>\n",
              "      <td>1942</td>\n",
              "      <td>4950</td>\n",
              "      <td>BLACK HEART SUIT</td>\n",
              "      <td>Miscellaneous Symbols</td>\n",
              "    </tr>\n",
              "    <tr>\n",
              "      <th>3</th>\n",
              "      <td>😍</td>\n",
              "      <td>0x1f60d</td>\n",
              "      <td>6359</td>\n",
              "      <td>0.765292</td>\n",
              "      <td>329</td>\n",
              "      <td>1390</td>\n",
              "      <td>4640</td>\n",
              "      <td>SMILING FACE WITH HEART-SHAPED EYES</td>\n",
              "      <td>Emoticons</td>\n",
              "    </tr>\n",
              "    <tr>\n",
              "      <th>4</th>\n",
              "      <td>😭</td>\n",
              "      <td>0x1f62d</td>\n",
              "      <td>5526</td>\n",
              "      <td>0.803352</td>\n",
              "      <td>2412</td>\n",
              "      <td>1218</td>\n",
              "      <td>1896</td>\n",
              "      <td>LOUDLY CRYING FACE</td>\n",
              "      <td>Emoticons</td>\n",
              "    </tr>\n",
              "    <tr>\n",
              "      <th>...</th>\n",
              "      <td>...</td>\n",
              "      <td>...</td>\n",
              "      <td>...</td>\n",
              "      <td>...</td>\n",
              "      <td>...</td>\n",
              "      <td>...</td>\n",
              "      <td>...</td>\n",
              "      <td>...</td>\n",
              "      <td>...</td>\n",
              "    </tr>\n",
              "    <tr>\n",
              "      <th>964</th>\n",
              "      <td>➛</td>\n",
              "      <td>0x279b</td>\n",
              "      <td>1</td>\n",
              "      <td>0.011628</td>\n",
              "      <td>0</td>\n",
              "      <td>1</td>\n",
              "      <td>0</td>\n",
              "      <td>DRAFTING POINT RIGHTWARDS ARROW</td>\n",
              "      <td>Dingbats</td>\n",
              "    </tr>\n",
              "    <tr>\n",
              "      <th>965</th>\n",
              "      <td>♝</td>\n",
              "      <td>0x265d</td>\n",
              "      <td>1</td>\n",
              "      <td>0.280000</td>\n",
              "      <td>0</td>\n",
              "      <td>1</td>\n",
              "      <td>0</td>\n",
              "      <td>BLACK CHESS BISHOP</td>\n",
              "      <td>Miscellaneous Symbols</td>\n",
              "    </tr>\n",
              "    <tr>\n",
              "      <th>966</th>\n",
              "      <td>❋</td>\n",
              "      <td>0x274b</td>\n",
              "      <td>1</td>\n",
              "      <td>0.888889</td>\n",
              "      <td>0</td>\n",
              "      <td>1</td>\n",
              "      <td>0</td>\n",
              "      <td>HEAVY EIGHT TEARDROP-SPOKED PROPELLER ASTERISK</td>\n",
              "      <td>Dingbats</td>\n",
              "    </tr>\n",
              "    <tr>\n",
              "      <th>967</th>\n",
              "      <td>✆</td>\n",
              "      <td>0x2706</td>\n",
              "      <td>1</td>\n",
              "      <td>0.557252</td>\n",
              "      <td>0</td>\n",
              "      <td>1</td>\n",
              "      <td>0</td>\n",
              "      <td>TELEPHONE LOCATION SIGN</td>\n",
              "      <td>Dingbats</td>\n",
              "    </tr>\n",
              "    <tr>\n",
              "      <th>968</th>\n",
              "      <td>📔</td>\n",
              "      <td>0x1f4d4</td>\n",
              "      <td>1</td>\n",
              "      <td>0.814815</td>\n",
              "      <td>0</td>\n",
              "      <td>0</td>\n",
              "      <td>1</td>\n",
              "      <td>NOTEBOOK WITH DECORATIVE COVER</td>\n",
              "      <td>Miscellaneous Symbols and Pictographs</td>\n",
              "    </tr>\n",
              "  </tbody>\n",
              "</table>\n",
              "<p>969 rows × 9 columns</p>\n",
              "</div>"
            ],
            "text/plain": [
              "    Emoji  ...                          Unicode block\n",
              "0       😂  ...                              Emoticons\n",
              "1       ❤  ...                               Dingbats\n",
              "2       ♥  ...                  Miscellaneous Symbols\n",
              "3       😍  ...                              Emoticons\n",
              "4       😭  ...                              Emoticons\n",
              "..    ...  ...                                    ...\n",
              "964     ➛  ...                               Dingbats\n",
              "965     ♝  ...                  Miscellaneous Symbols\n",
              "966     ❋  ...                               Dingbats\n",
              "967     ✆  ...                               Dingbats\n",
              "968     📔  ...  Miscellaneous Symbols and Pictographs\n",
              "\n",
              "[969 rows x 9 columns]"
            ]
          },
          "metadata": {
            "tags": []
          },
          "execution_count": 34
        }
      ]
    },
    {
      "cell_type": "markdown",
      "metadata": {
        "id": "OIwFWR-b9cQp"
      },
      "source": [
        "###Visualise Emoji Sentiments using Matplotlib"
      ]
    },
    {
      "cell_type": "code",
      "metadata": {
        "id": "xfJ3s2q99xop",
        "colab": {
          "base_uri": "https://localhost:8080/",
          "height": 461
        },
        "outputId": "f8880612-a2cf-4cc3-9748-2769abb7ce1d"
      },
      "source": [
        "plt.xticks(rotation='vertical')\n",
        "plt.plot(emoji_df['Unicode name'][:10], emoji_df['Positive'][:10], color='green', marker='P',)\n",
        "plt.plot(emoji_df['Unicode name'][:10], emoji_df['Neutral'][:10], color='blue', marker='.')\n",
        "plt.plot(emoji_df['Unicode name'][:10], emoji_df['Negative'][:10], color='red', marker='X')\n",
        "plt.legend(['Positive', 'Neutral', 'Negative'])\n",
        "plt.show()"
      ],
      "execution_count": null,
      "outputs": [
        {
          "output_type": "display_data",
          "data": {
            "image/png": "[encoded data removed]",
            "text/plain": [
              "<Figure size 432x288 with 1 Axes>"
            ]
          },
          "metadata": {
            "tags": [],
            "needs_background": "light"
          }
        }
      ]
    },
    {
      "cell_type": "markdown",
      "metadata": {
        "id": "S0lvQDAHlPxo"
      },
      "source": [
        "#14/05/2021"
      ]
    },
    {
      "cell_type": "markdown",
      "metadata": {
        "id": "jm7SbO2ilUc4"
      },
      "source": [
        "##Assignment 1"
      ]
    },
    {
      "cell_type": "markdown",
      "metadata": {
        "id": "sEEYq_s0lcQ7"
      },
      "source": [
        "###Multiplication table using while loop"
      ]
    },
    {
      "cell_type": "code",
      "metadata": {
        "colab": {
          "base_uri": "https://localhost:8080/"
        },
        "id": "o8GFTIpvldZW",
        "outputId": "0b9e962d-4544-4662-da60-532e9494c308"
      },
      "source": [
        "s,e=map(int,input(\"Enter start and end range of multiplication tables(seperated by space): \").split())\n",
        "if e<s:print(\"End must be greater than Start\"),exit()\n",
        "while(s<e+1):\n",
        "  i=1\n",
        "  print('\\n'+\"*\"*25+f'\\nMultiplication table of {s}\\n')\n",
        "  while(i<=10):\n",
        "    print(f\"{i} * {s} = {i*s}\")\n",
        "    i+=1\n",
        "  s+=1"
      ],
      "execution_count": null,
      "outputs": [
        {
          "output_type": "stream",
          "text": [
            "Enter start and end range of multiplication tables(seperated by space): 1 10\n",
            "\n",
            "*************************\n",
            "Multiplication table of 1\n",
            "\n",
            "1 * 1 = 1\n",
            "2 * 1 = 2\n",
            "3 * 1 = 3\n",
            "4 * 1 = 4\n",
            "5 * 1 = 5\n",
            "6 * 1 = 6\n",
            "7 * 1 = 7\n",
            "8 * 1 = 8\n",
            "9 * 1 = 9\n",
            "10 * 1 = 10\n",
            "\n",
            "*************************\n",
            "Multiplication table of 2\n",
            "\n",
            "1 * 2 = 2\n",
            "2 * 2 = 4\n",
            "3 * 2 = 6\n",
            "4 * 2 = 8\n",
            "5 * 2 = 10\n",
            "6 * 2 = 12\n",
            "7 * 2 = 14\n",
            "8 * 2 = 16\n",
            "9 * 2 = 18\n",
            "10 * 2 = 20\n",
            "\n",
            "*************************\n",
            "Multiplication table of 3\n",
            "\n",
            "1 * 3 = 3\n",
            "2 * 3 = 6\n",
            "3 * 3 = 9\n",
            "4 * 3 = 12\n",
            "5 * 3 = 15\n",
            "6 * 3 = 18\n",
            "7 * 3 = 21\n",
            "8 * 3 = 24\n",
            "9 * 3 = 27\n",
            "10 * 3 = 30\n",
            "\n",
            "*************************\n",
            "Multiplication table of 4\n",
            "\n",
            "1 * 4 = 4\n",
            "2 * 4 = 8\n",
            "3 * 4 = 12\n",
            "4 * 4 = 16\n",
            "5 * 4 = 20\n",
            "6 * 4 = 24\n",
            "7 * 4 = 28\n",
            "8 * 4 = 32\n",
            "9 * 4 = 36\n",
            "10 * 4 = 40\n",
            "\n",
            "*************************\n",
            "Multiplication table of 5\n",
            "\n",
            "1 * 5 = 5\n",
            "2 * 5 = 10\n",
            "3 * 5 = 15\n",
            "4 * 5 = 20\n",
            "5 * 5 = 25\n",
            "6 * 5 = 30\n",
            "7 * 5 = 35\n",
            "8 * 5 = 40\n",
            "9 * 5 = 45\n",
            "10 * 5 = 50\n",
            "\n",
            "*************************\n",
            "Multiplication table of 6\n",
            "\n",
            "1 * 6 = 6\n",
            "2 * 6 = 12\n",
            "3 * 6 = 18\n",
            "4 * 6 = 24\n",
            "5 * 6 = 30\n",
            "6 * 6 = 36\n",
            "7 * 6 = 42\n",
            "8 * 6 = 48\n",
            "9 * 6 = 54\n",
            "10 * 6 = 60\n",
            "\n",
            "*************************\n",
            "Multiplication table of 7\n",
            "\n",
            "1 * 7 = 7\n",
            "2 * 7 = 14\n",
            "3 * 7 = 21\n",
            "4 * 7 = 28\n",
            "5 * 7 = 35\n",
            "6 * 7 = 42\n",
            "7 * 7 = 49\n",
            "8 * 7 = 56\n",
            "9 * 7 = 63\n",
            "10 * 7 = 70\n",
            "\n",
            "*************************\n",
            "Multiplication table of 8\n",
            "\n",
            "1 * 8 = 8\n",
            "2 * 8 = 16\n",
            "3 * 8 = 24\n",
            "4 * 8 = 32\n",
            "5 * 8 = 40\n",
            "6 * 8 = 48\n",
            "7 * 8 = 56\n",
            "8 * 8 = 64\n",
            "9 * 8 = 72\n",
            "10 * 8 = 80\n",
            "\n",
            "*************************\n",
            "Multiplication table of 9\n",
            "\n",
            "1 * 9 = 9\n",
            "2 * 9 = 18\n",
            "3 * 9 = 27\n",
            "4 * 9 = 36\n",
            "5 * 9 = 45\n",
            "6 * 9 = 54\n",
            "7 * 9 = 63\n",
            "8 * 9 = 72\n",
            "9 * 9 = 81\n",
            "10 * 9 = 90\n",
            "\n",
            "*************************\n",
            "Multiplication table of 10\n",
            "\n",
            "1 * 10 = 10\n",
            "2 * 10 = 20\n",
            "3 * 10 = 30\n",
            "4 * 10 = 40\n",
            "5 * 10 = 50\n",
            "6 * 10 = 60\n",
            "7 * 10 = 70\n",
            "8 * 10 = 80\n",
            "9 * 10 = 90\n",
            "10 * 10 = 100\n"
          ],
          "name": "stdout"
        }
      ]
    },
    {
      "cell_type": "markdown",
      "metadata": {
        "id": "h78V3yrY9Hwq"
      },
      "source": [
        "#17/05/2021"
      ]
    },
    {
      "cell_type": "markdown",
      "metadata": {
        "id": "1ljk1Ku_9OMo"
      },
      "source": [
        "\n",
        "##Assignment-1"
      ]
    },
    {
      "cell_type": "markdown",
      "metadata": {
        "id": "DIBqVZIT9TV1"
      },
      "source": [
        "###for loop"
      ]
    },
    {
      "cell_type": "code",
      "metadata": {
        "colab": {
          "base_uri": "https://localhost:8080/"
        },
        "id": "pGoue7d69V0l",
        "outputId": "2074eebd-b8db-47ad-cd01-7da989548729"
      },
      "source": [
        "List=[i for i in range(1,11)]\n",
        "\n",
        "for i in List:\n",
        "  print(i,end=' ')\n",
        "\n",
        "print()\n",
        "\n",
        "print(\"Even Numbers:\")\n",
        "for i in List:\n",
        "  if i%2==0:print(i,end=' ')"
      ],
      "execution_count": null,
      "outputs": [
        {
          "output_type": "stream",
          "text": [
            "1 2 3 4 5 6 7 8 9 10 \n",
            "Even Numbers:\n",
            "2 4 6 8 10 "
          ],
          "name": "stdout"
        }
      ]
    },
    {
      "cell_type": "markdown",
      "metadata": {
        "id": "sDMGhM7ABte5"
      },
      "source": [
        "##Assignment -2"
      ]
    },
    {
      "cell_type": "code",
      "metadata": {
        "id": "_dQT9rN-CDka"
      },
      "source": [
        "###Nested for loop . Asterisk Pattern"
      ],
      "execution_count": null,
      "outputs": []
    },
    {
      "cell_type": "code",
      "metadata": {
        "colab": {
          "base_uri": "https://localhost:8080/"
        },
        "id": "ELGLWfIABu8Q",
        "outputId": "b1085c43-b732-4d8f-b6c0-5d77a0c4868c"
      },
      "source": [
        "n=int(input(\"Enter a number:\"))\n",
        "for i in range(n,0,-1):\n",
        "  for j in range(n,n-i,-1):\n",
        "    print('*',end=' ')\n",
        "  print()"
      ],
      "execution_count": null,
      "outputs": [
        {
          "output_type": "stream",
          "text": [
            "Enter a number:5\n",
            "* * * * * \n",
            "* * * * \n",
            "* * * \n",
            "* * \n",
            "* \n"
          ],
          "name": "stdout"
        }
      ]
    },
    {
      "cell_type": "markdown",
      "metadata": {
        "id": "oOhI_5fvCB3C"
      },
      "source": [
        "##Assignment -3"
      ]
    },
    {
      "cell_type": "markdown",
      "metadata": {
        "id": "3EbVgxvqCKTT"
      },
      "source": [
        "###for loop String Pattern"
      ]
    },
    {
      "cell_type": "code",
      "metadata": {
        "colab": {
          "base_uri": "https://localhost:8080/"
        },
        "id": "cu2fkYVLCJi6",
        "outputId": "058e0795-5851-436e-b28a-1e88ecc084d5"
      },
      "source": [
        "s=input(\"Enter a string:\").strip()\n",
        "for i in range(1,len(s)+1):\n",
        "  print(s[:i])"
      ],
      "execution_count": null,
      "outputs": [
        {
          "output_type": "stream",
          "text": [
            "Enter a string:python\n",
            "p\n",
            "py\n",
            "pyt\n",
            "pyth\n",
            "pytho\n",
            "python\n"
          ],
          "name": "stdout"
        }
      ]
    },
    {
      "cell_type": "markdown",
      "metadata": {
        "id": "QC0z52IBpUxl"
      },
      "source": [
        "###Random Number Guessing Game"
      ]
    },
    {
      "cell_type": "code",
      "metadata": {
        "colab": {
          "base_uri": "https://localhost:8080/"
        },
        "id": "H0aCyJGEpeWO",
        "outputId": "00a59c94-ffc6-4e53-d140-697d706e8e8a"
      },
      "source": [
        "import random\n",
        "number=random.randint(1, 10)\n",
        "guess=int(input(\"Enter a number between 1 & 10:\"))\n",
        "while 1:\n",
        "    print()\n",
        "    if guess<number:\n",
        "        print(\"Guess is low\")\n",
        "        guess=int(input(\"Enter an integer between 1 & 10:\"))\n",
        "    elif guess>number:\n",
        "        print(\"Guess is high\")\n",
        "        guess=int(input(\"Enter an integer between 1 & 10:\"))\n",
        "    else:\n",
        "        print(\"You guessed it!\")\n",
        "        break\n",
        "    print()"
      ],
      "execution_count": null,
      "outputs": [
        {
          "output_type": "stream",
          "text": [
            "Enter a number between 1 & 10:5\n",
            "\n",
            "Guess is low\n",
            "Enter an integer between 1 & 10:8\n",
            "\n",
            "\n",
            "Guess is low\n",
            "Enter an integer between 1 & 10:9\n",
            "\n",
            "\n",
            "Guess is low\n",
            "Enter an integer between 1 & 10:10\n",
            "\n",
            "\n",
            "You guessed it!\n"
          ],
          "name": "stdout"
        }
      ]
    },
    {
      "cell_type": "markdown",
      "metadata": {
        "id": "sAtGXgjRK0_n"
      },
      "source": [
        "#18/05/2021"
      ]
    },
    {
      "cell_type": "markdown",
      "metadata": {
        "id": "bLPCdJnJK2-t"
      },
      "source": [
        "##Assignment -1"
      ]
    },
    {
      "cell_type": "markdown",
      "metadata": {
        "id": "b3xNw0Lxofy_"
      },
      "source": [
        "\n",
        "\n",
        "1.   In Python version <= v3.6 -> limit of arguments is 255 (CPython)\n",
        "2.   In Python version > v3.6  -> no limit for arguments (relies on System memory)\n",
        "\n"
      ]
    },
    {
      "cell_type": "markdown",
      "metadata": {
        "id": "J5r-6jT4K68H"
      },
      "source": [
        "###Find max of 3 numbers using userdefined function"
      ]
    },
    {
      "cell_type": "code",
      "metadata": {
        "id": "LR0S_bPsLI6z",
        "colab": {
          "base_uri": "https://localhost:8080/"
        },
        "outputId": "cc910ac0-7b00-4a87-f7ad-2d2ab0ebb3c8"
      },
      "source": [
        "def maxofthree(a,b,c):\n",
        "  return (a if a>b else (b if b>c else c))\n",
        "  #return max(a,b,c)\n",
        "maxofthree(3,5,7)"
      ],
      "execution_count": null,
      "outputs": [
        {
          "output_type": "execute_result",
          "data": {
            "text/plain": [
              "7"
            ]
          },
          "metadata": {
            "tags": []
          },
          "execution_count": 42
        }
      ]
    },
    {
      "cell_type": "markdown",
      "metadata": {
        "id": "7LesId4LL6MY"
      },
      "source": [
        "###Find min of 3 numbers using userdefined function"
      ]
    },
    {
      "cell_type": "code",
      "metadata": {
        "id": "YDNf0tpsMB_Z",
        "colab": {
          "base_uri": "https://localhost:8080/"
        },
        "outputId": "f61c9c69-070c-4895-ba89-a2829881f125"
      },
      "source": [
        "def minofthree(a,b,c):\n",
        "  return (a if a<b else (b if b<c else c))\n",
        "  #return min(a,b,c)\n",
        "minofthree(3,5,7)"
      ],
      "execution_count": null,
      "outputs": [
        {
          "output_type": "execute_result",
          "data": {
            "text/plain": [
              "3"
            ]
          },
          "metadata": {
            "tags": []
          },
          "execution_count": 43
        }
      ]
    },
    {
      "cell_type": "markdown",
      "metadata": {
        "id": "9DI1W0qdMJqi"
      },
      "source": [
        "###Find sum of numbers in a list"
      ]
    },
    {
      "cell_type": "code",
      "metadata": {
        "id": "647A3C-zMNOO",
        "colab": {
          "base_uri": "https://localhost:8080/"
        },
        "outputId": "a5b26839-db56-43da-eb8d-643deb2ac25a"
      },
      "source": [
        "def Sum(l):\n",
        "  s=0\n",
        "  for i in l:s+=i\n",
        "  return s\n",
        "  #return sum(l)\n",
        "Sum([1,2,3,4,5])"
      ],
      "execution_count": null,
      "outputs": [
        {
          "output_type": "execute_result",
          "data": {
            "text/plain": [
              "15"
            ]
          },
          "metadata": {
            "tags": []
          },
          "execution_count": 44
        }
      ]
    },
    {
      "cell_type": "markdown",
      "metadata": {
        "id": "DXt0cGa1MfZN"
      },
      "source": [
        "###Find Product of numbers in a list"
      ]
    },
    {
      "cell_type": "code",
      "metadata": {
        "id": "FUVfESdBMiVk",
        "colab": {
          "base_uri": "https://localhost:8080/"
        },
        "outputId": "f48cdfe5-4583-483e-afc9-16b2fa4f3a31"
      },
      "source": [
        "def product(l):\n",
        "  pdt=1\n",
        "  for i in l:pdt*=i\n",
        "  return pdt\n",
        "product([1,2,3,4,5])"
      ],
      "execution_count": null,
      "outputs": [
        {
          "output_type": "execute_result",
          "data": {
            "text/plain": [
              "120"
            ]
          },
          "metadata": {
            "tags": []
          },
          "execution_count": 45
        }
      ]
    },
    {
      "cell_type": "markdown",
      "metadata": {
        "id": "vFselGoqoFb1"
      },
      "source": [
        "###User defined function for Subtraction of numbers"
      ]
    },
    {
      "cell_type": "code",
      "metadata": {
        "id": "u3-8-BtMoJnE",
        "colab": {
          "base_uri": "https://localhost:8080/"
        },
        "outputId": "ff6bea81-b13c-4ff9-c2da-14b12b3362c7"
      },
      "source": [
        "def subtraction(x,y):\n",
        "  return x-y\n",
        "subtraction(10,5)"
      ],
      "execution_count": null,
      "outputs": [
        {
          "output_type": "execute_result",
          "data": {
            "text/plain": [
              "5"
            ]
          },
          "metadata": {
            "tags": []
          },
          "execution_count": 46
        }
      ]
    },
    {
      "cell_type": "markdown",
      "metadata": {
        "id": "OmBUWJ3Qm7Uo"
      },
      "source": [
        "#19/05/2021"
      ]
    },
    {
      "cell_type": "markdown",
      "metadata": {
        "id": "WjeVqWZNm-rO"
      },
      "source": [
        "##Assignment-1   ( **SUPERVISED LEARNING** ) \n",
        "###Training and Testing data using **sklearn - Linear Regression**"
      ]
    },
    {
      "cell_type": "markdown",
      "metadata": {
        "id": "GhsyXfulnBqK"
      },
      "source": [
        "###Importing required modules"
      ]
    },
    {
      "cell_type": "code",
      "metadata": {
        "id": "ZCP4KlW_najr"
      },
      "source": [
        "import pandas as pd\n",
        "import numpy as np\n",
        "import matplotlib.pyplot as plt\n",
        "from sklearn.model_selection import train_test_split\n",
        "from sklearn.linear_model import LinearRegression\n",
        "import seaborn as sns"
      ],
      "execution_count": 7,
      "outputs": []
    },
    {
      "cell_type": "markdown",
      "metadata": {
        "id": "DWQtPT6YnllY"
      },
      "source": [
        "###Loading and Reading DataSet"
      ]
    },
    {
      "cell_type": "code",
      "metadata": {
        "colab": {
          "base_uri": "https://localhost:8080/",
          "height": 402
        },
        "id": "2WlTQPwwnnPk",
        "outputId": "66834d7c-61be-4590-98fe-27d57c26d776"
      },
      "source": [
        "housing_df = pd.read_csv(\"https://raw.githubusercontent.com/HariboobaalanPN/Machine-Learning-Internship/main/USA_Housing_Dataset.csv\")\n",
        "housing_df"
      ],
      "execution_count": 8,
      "outputs": [
        {
          "output_type": "execute_result",
          "data": {
            "text/html": [
              "<div>\n",
              "<style scoped>\n",
              "    .dataframe tbody tr th:only-of-type {\n",
              "        vertical-align: middle;\n",
              "    }\n",
              "\n",
              "    .dataframe tbody tr th {\n",
              "        vertical-align: top;\n",
              "    }\n",
              "\n",
              "    .dataframe thead th {\n",
              "        text-align: right;\n",
              "    }\n",
              "</style>\n",
              "<table border=\"1\" class=\"dataframe\">\n",
              "  <thead>\n",
              "    <tr style=\"text-align: right;\">\n",
              "      <th></th>\n",
              "      <th>Avg. Area Income</th>\n",
              "      <th>Avg. Area House Age</th>\n",
              "      <th>Avg. Area Number of Rooms</th>\n",
              "      <th>Avg. Area Number of Bedrooms</th>\n",
              "      <th>Area Population</th>\n",
              "      <th>Price</th>\n",
              "      <th>Address</th>\n",
              "    </tr>\n",
              "  </thead>\n",
              "  <tbody>\n",
              "    <tr>\n",
              "      <th>0</th>\n",
              "      <td>79545.458574</td>\n",
              "      <td>5.682861</td>\n",
              "      <td>7.009188</td>\n",
              "      <td>4.09</td>\n",
              "      <td>23086.800503</td>\n",
              "      <td>1.059034e+06</td>\n",
              "      <td>208 Michael Ferry Apt. 674\\nLaurabury, NE 3701...</td>\n",
              "    </tr>\n",
              "    <tr>\n",
              "      <th>1</th>\n",
              "      <td>79248.642455</td>\n",
              "      <td>6.002900</td>\n",
              "      <td>6.730821</td>\n",
              "      <td>3.09</td>\n",
              "      <td>40173.072174</td>\n",
              "      <td>1.505891e+06</td>\n",
              "      <td>188 Johnson Views Suite 079\\nLake Kathleen, CA...</td>\n",
              "    </tr>\n",
              "    <tr>\n",
              "      <th>2</th>\n",
              "      <td>61287.067179</td>\n",
              "      <td>5.865890</td>\n",
              "      <td>8.512727</td>\n",
              "      <td>5.13</td>\n",
              "      <td>36882.159400</td>\n",
              "      <td>1.058988e+06</td>\n",
              "      <td>9127 Elizabeth Stravenue\\nDanieltown, WI 06482...</td>\n",
              "    </tr>\n",
              "    <tr>\n",
              "      <th>3</th>\n",
              "      <td>63345.240046</td>\n",
              "      <td>7.188236</td>\n",
              "      <td>5.586729</td>\n",
              "      <td>3.26</td>\n",
              "      <td>34310.242831</td>\n",
              "      <td>1.260617e+06</td>\n",
              "      <td>USS Barnett\\nFPO AP 44820</td>\n",
              "    </tr>\n",
              "    <tr>\n",
              "      <th>4</th>\n",
              "      <td>59982.197226</td>\n",
              "      <td>5.040555</td>\n",
              "      <td>7.839388</td>\n",
              "      <td>4.23</td>\n",
              "      <td>26354.109472</td>\n",
              "      <td>6.309435e+05</td>\n",
              "      <td>USNS Raymond\\nFPO AE 09386</td>\n",
              "    </tr>\n",
              "    <tr>\n",
              "      <th>...</th>\n",
              "      <td>...</td>\n",
              "      <td>...</td>\n",
              "      <td>...</td>\n",
              "      <td>...</td>\n",
              "      <td>...</td>\n",
              "      <td>...</td>\n",
              "      <td>...</td>\n",
              "    </tr>\n",
              "    <tr>\n",
              "      <th>4995</th>\n",
              "      <td>60567.944140</td>\n",
              "      <td>7.830362</td>\n",
              "      <td>6.137356</td>\n",
              "      <td>3.46</td>\n",
              "      <td>22837.361035</td>\n",
              "      <td>1.060194e+06</td>\n",
              "      <td>USNS Williams\\nFPO AP 30153-7653</td>\n",
              "    </tr>\n",
              "    <tr>\n",
              "      <th>4996</th>\n",
              "      <td>78491.275435</td>\n",
              "      <td>6.999135</td>\n",
              "      <td>6.576763</td>\n",
              "      <td>4.02</td>\n",
              "      <td>25616.115489</td>\n",
              "      <td>1.482618e+06</td>\n",
              "      <td>PSC 9258, Box 8489\\nAPO AA 42991-3352</td>\n",
              "    </tr>\n",
              "    <tr>\n",
              "      <th>4997</th>\n",
              "      <td>63390.686886</td>\n",
              "      <td>7.250591</td>\n",
              "      <td>4.805081</td>\n",
              "      <td>2.13</td>\n",
              "      <td>33266.145490</td>\n",
              "      <td>1.030730e+06</td>\n",
              "      <td>4215 Tracy Garden Suite 076\\nJoshualand, VA 01...</td>\n",
              "    </tr>\n",
              "    <tr>\n",
              "      <th>4998</th>\n",
              "      <td>68001.331235</td>\n",
              "      <td>5.534388</td>\n",
              "      <td>7.130144</td>\n",
              "      <td>5.44</td>\n",
              "      <td>42625.620156</td>\n",
              "      <td>1.198657e+06</td>\n",
              "      <td>USS Wallace\\nFPO AE 73316</td>\n",
              "    </tr>\n",
              "    <tr>\n",
              "      <th>4999</th>\n",
              "      <td>65510.581804</td>\n",
              "      <td>5.992305</td>\n",
              "      <td>6.792336</td>\n",
              "      <td>4.07</td>\n",
              "      <td>46501.283803</td>\n",
              "      <td>1.298950e+06</td>\n",
              "      <td>37778 George Ridges Apt. 509\\nEast Holly, NV 2...</td>\n",
              "    </tr>\n",
              "  </tbody>\n",
              "</table>\n",
              "<p>5000 rows × 7 columns</p>\n",
              "</div>"
            ],
            "text/plain": [
              "      Avg. Area Income  ...                                            Address\n",
              "0         79545.458574  ...  208 Michael Ferry Apt. 674\\nLaurabury, NE 3701...\n",
              "1         79248.642455  ...  188 Johnson Views Suite 079\\nLake Kathleen, CA...\n",
              "2         61287.067179  ...  9127 Elizabeth Stravenue\\nDanieltown, WI 06482...\n",
              "3         63345.240046  ...                          USS Barnett\\nFPO AP 44820\n",
              "4         59982.197226  ...                         USNS Raymond\\nFPO AE 09386\n",
              "...                ...  ...                                                ...\n",
              "4995      60567.944140  ...                   USNS Williams\\nFPO AP 30153-7653\n",
              "4996      78491.275435  ...              PSC 9258, Box 8489\\nAPO AA 42991-3352\n",
              "4997      63390.686886  ...  4215 Tracy Garden Suite 076\\nJoshualand, VA 01...\n",
              "4998      68001.331235  ...                          USS Wallace\\nFPO AE 73316\n",
              "4999      65510.581804  ...  37778 George Ridges Apt. 509\\nEast Holly, NV 2...\n",
              "\n",
              "[5000 rows x 7 columns]"
            ]
          },
          "metadata": {
            "tags": []
          },
          "execution_count": 8
        }
      ]
    },
    {
      "cell_type": "code",
      "metadata": {
        "colab": {
          "base_uri": "https://localhost:8080/"
        },
        "id": "_RVYxymgpnIu",
        "outputId": "00f3467c-c620-4bfc-be46-2ca1070cd627"
      },
      "source": [
        "housing_df.describe"
      ],
      "execution_count": null,
      "outputs": [
        {
          "output_type": "execute_result",
          "data": {
            "text/plain": [
              "<bound method NDFrame.describe of       Avg. Area Income  ...                                            Address\n",
              "0         79545.458574  ...  208 Michael Ferry Apt. 674\\nLaurabury, NE 3701...\n",
              "1         79248.642455  ...  188 Johnson Views Suite 079\\nLake Kathleen, CA...\n",
              "2         61287.067179  ...  9127 Elizabeth Stravenue\\nDanieltown, WI 06482...\n",
              "3         63345.240046  ...                          USS Barnett\\nFPO AP 44820\n",
              "4         59982.197226  ...                         USNS Raymond\\nFPO AE 09386\n",
              "...                ...  ...                                                ...\n",
              "4995      60567.944140  ...                   USNS Williams\\nFPO AP 30153-7653\n",
              "4996      78491.275435  ...              PSC 9258, Box 8489\\nAPO AA 42991-3352\n",
              "4997      63390.686886  ...  4215 Tracy Garden Suite 076\\nJoshualand, VA 01...\n",
              "4998      68001.331235  ...                          USS Wallace\\nFPO AE 73316\n",
              "4999      65510.581804  ...  37778 George Ridges Apt. 509\\nEast Holly, NV 2...\n",
              "\n",
              "[5000 rows x 7 columns]>"
            ]
          },
          "metadata": {
            "tags": []
          },
          "execution_count": 70
        }
      ]
    },
    {
      "cell_type": "code",
      "metadata": {
        "colab": {
          "base_uri": "https://localhost:8080/",
          "height": 579
        },
        "id": "MA06fZ_LvMoH",
        "outputId": "746a2224-d23d-4553-ddc7-571173e23b1e"
      },
      "source": [
        "no_columns = len(housing_df.columns)\n",
        "plt.figure(figsize = (no_columns, no_columns))\n",
        "sns.heatmap(housing_df.corr(method ='pearson'), cmap='Blues', annot=True, linewidths=.5)\n",
        "plt.show()"
      ],
      "execution_count": 13,
      "outputs": [
        {
          "output_type": "display_data",
          "data": {
            "image/png": "[encoded data removed]",
            "text/plain": [
              "<Figure size 504x504 with 2 Axes>"
            ]
          },
          "metadata": {
            "tags": [],
            "needs_background": "light"
          }
        }
      ]
    },
    {
      "cell_type": "markdown",
      "metadata": {
        "id": "fg5L9knroUAK"
      },
      "source": [
        "###Splitting **Train** & **Test** Data"
      ]
    },
    {
      "cell_type": "code",
      "metadata": {
        "id": "VDxMmqRgoZx1"
      },
      "source": [
        "X = housing_df[['Avg. Area Income', 'Avg. Area House Age', 'Avg. Area Number of Rooms','Avg. Area Number of Bedrooms', 'Area Population']]\n",
        "y = housing_df['Price']\n",
        "train_x, test_x, train_y, test_y = train_test_split(X, y, test_size = 0.3, random_state=25)"
      ],
      "execution_count": null,
      "outputs": []
    },
    {
      "cell_type": "markdown",
      "metadata": {
        "id": "JKbO4y-hq9Rb"
      },
      "source": [
        "###Create Linear Regression Model"
      ]
    },
    {
      "cell_type": "code",
      "metadata": {
        "id": "Ep41DbH1rZvh"
      },
      "source": [
        "linear_model=LinearRegression()"
      ],
      "execution_count": null,
      "outputs": []
    },
    {
      "cell_type": "markdown",
      "metadata": {
        "id": "9hzVtfBOrgVk"
      },
      "source": [
        "###Fitting **Train Data** to regression model"
      ]
    },
    {
      "cell_type": "code",
      "metadata": {
        "colab": {
          "base_uri": "https://localhost:8080/"
        },
        "id": "oOJtDdrcrmdI",
        "outputId": "8ddbd830-feba-463d-88b5-2fad2a2a8ddc"
      },
      "source": [
        "linear_model.fit(train_x, train_y)"
      ],
      "execution_count": null,
      "outputs": [
        {
          "output_type": "execute_result",
          "data": {
            "text/plain": [
              "LinearRegression(copy_X=True, fit_intercept=True, n_jobs=None, normalize=False)"
            ]
          },
          "metadata": {
            "tags": []
          },
          "execution_count": 131
        }
      ]
    },
    {
      "cell_type": "markdown",
      "metadata": {
        "id": "VAHsDHZ2rpEn"
      },
      "source": [
        "###Scoring Train and Test Data"
      ]
    },
    {
      "cell_type": "code",
      "metadata": {
        "colab": {
          "base_uri": "https://localhost:8080/"
        },
        "id": "1z4nZKsptrXd",
        "outputId": "7e1fa2eb-283b-4065-c1ba-41e39afc73ea"
      },
      "source": [
        "linear_model.score(train_x, train_y) ,linear_model.score(test_x, test_y) #Required , Obtained"
      ],
      "execution_count": null,
      "outputs": [
        {
          "output_type": "execute_result",
          "data": {
            "text/plain": [
              "(0.9190754821952738, 0.9154205550284317)"
            ]
          },
          "metadata": {
            "tags": []
          },
          "execution_count": 132
        }
      ]
    },
    {
      "cell_type": "markdown",
      "metadata": {
        "id": "xE2eJEbWw1S7"
      },
      "source": [
        "###Predicting the test_set using the trained model"
      ]
    },
    {
      "cell_type": "code",
      "metadata": {
        "colab": {
          "base_uri": "https://localhost:8080/"
        },
        "id": "ZMj0pjGIt6lw",
        "outputId": "d71004e8-1eb0-4591-bd29-1e5bb1a45a99"
      },
      "source": [
        "linear_model.predict(test_x)"
      ],
      "execution_count": null,
      "outputs": [
        {
          "output_type": "execute_result",
          "data": {
            "text/plain": [
              "array([1488032.75059015,  995135.73918077, 1068088.45385878, ...,\n",
              "        552465.63295134, 1406920.15292913, 1283779.65908267])"
            ]
          },
          "metadata": {
            "tags": []
          },
          "execution_count": 133
        }
      ]
    },
    {
      "cell_type": "markdown",
      "metadata": {
        "id": "P6tXGpUpxB1F"
      },
      "source": [
        "###Viewing the relation coefficient as DataFrame "
      ]
    },
    {
      "cell_type": "code",
      "metadata": {
        "colab": {
          "base_uri": "https://localhost:8080/",
          "height": 195
        },
        "id": "FJpDj8FquW59",
        "outputId": "29b777a1-16e8-4898-d67a-d24d0e6860a0"
      },
      "source": [
        "coeff_df = pd.DataFrame(linear_model.coef_, X.columns, columns=['Coefficient'])\n",
        "coeff_df"
      ],
      "execution_count": null,
      "outputs": [
        {
          "output_type": "execute_result",
          "data": {
            "text/html": [
              "<div>\n",
              "<style scoped>\n",
              "    .dataframe tbody tr th:only-of-type {\n",
              "        vertical-align: middle;\n",
              "    }\n",
              "\n",
              "    .dataframe tbody tr th {\n",
              "        vertical-align: top;\n",
              "    }\n",
              "\n",
              "    .dataframe thead th {\n",
              "        text-align: right;\n",
              "    }\n",
              "</style>\n",
              "<table border=\"1\" class=\"dataframe\">\n",
              "  <thead>\n",
              "    <tr style=\"text-align: right;\">\n",
              "      <th></th>\n",
              "      <th>Coefficient</th>\n",
              "    </tr>\n",
              "  </thead>\n",
              "  <tbody>\n",
              "    <tr>\n",
              "      <th>Avg. Area Income</th>\n",
              "      <td>21.401161</td>\n",
              "    </tr>\n",
              "    <tr>\n",
              "      <th>Avg. Area House Age</th>\n",
              "      <td>165539.335703</td>\n",
              "    </tr>\n",
              "    <tr>\n",
              "      <th>Avg. Area Number of Rooms</th>\n",
              "      <td>120215.456746</td>\n",
              "    </tr>\n",
              "    <tr>\n",
              "      <th>Avg. Area Number of Bedrooms</th>\n",
              "      <td>1739.367496</td>\n",
              "    </tr>\n",
              "    <tr>\n",
              "      <th>Area Population</th>\n",
              "      <td>15.100093</td>\n",
              "    </tr>\n",
              "  </tbody>\n",
              "</table>\n",
              "</div>"
            ],
            "text/plain": [
              "                                Coefficient\n",
              "Avg. Area Income                  21.401161\n",
              "Avg. Area House Age           165539.335703\n",
              "Avg. Area Number of Rooms     120215.456746\n",
              "Avg. Area Number of Bedrooms    1739.367496\n",
              "Area Population                   15.100093"
            ]
          },
          "metadata": {
            "tags": []
          },
          "execution_count": 134
        }
      ]
    },
    {
      "cell_type": "markdown",
      "metadata": {
        "id": "5uLSeMMCxMVz"
      },
      "source": [
        "###Viewing the prediction output as DataFrame"
      ]
    },
    {
      "cell_type": "code",
      "metadata": {
        "colab": {
          "base_uri": "https://localhost:8080/",
          "height": 402
        },
        "id": "2tJP7-pmvLA2",
        "outputId": "c725b711-32ca-4549-ead2-85c1b3720316"
      },
      "source": [
        "predicted_price_df = pd.DataFrame(linear_model.predict(test_x), columns=['Prediction'])\n",
        "predicted_price_df['Actual'] = pd.DataFrame(test_y).reset_index()['Price']\n",
        "predicted_price_df"
      ],
      "execution_count": null,
      "outputs": [
        {
          "output_type": "execute_result",
          "data": {
            "text/html": [
              "<div>\n",
              "<style scoped>\n",
              "    .dataframe tbody tr th:only-of-type {\n",
              "        vertical-align: middle;\n",
              "    }\n",
              "\n",
              "    .dataframe tbody tr th {\n",
              "        vertical-align: top;\n",
              "    }\n",
              "\n",
              "    .dataframe thead th {\n",
              "        text-align: right;\n",
              "    }\n",
              "</style>\n",
              "<table border=\"1\" class=\"dataframe\">\n",
              "  <thead>\n",
              "    <tr style=\"text-align: right;\">\n",
              "      <th></th>\n",
              "      <th>Prediction</th>\n",
              "      <th>Actual</th>\n",
              "    </tr>\n",
              "  </thead>\n",
              "  <tbody>\n",
              "    <tr>\n",
              "      <th>0</th>\n",
              "      <td>1.488033e+06</td>\n",
              "      <td>1.356385e+06</td>\n",
              "    </tr>\n",
              "    <tr>\n",
              "      <th>1</th>\n",
              "      <td>9.951357e+05</td>\n",
              "      <td>1.044999e+06</td>\n",
              "    </tr>\n",
              "    <tr>\n",
              "      <th>2</th>\n",
              "      <td>1.068088e+06</td>\n",
              "      <td>1.007225e+06</td>\n",
              "    </tr>\n",
              "    <tr>\n",
              "      <th>3</th>\n",
              "      <td>1.439619e+06</td>\n",
              "      <td>1.462422e+06</td>\n",
              "    </tr>\n",
              "    <tr>\n",
              "      <th>4</th>\n",
              "      <td>8.680552e+05</td>\n",
              "      <td>1.024973e+06</td>\n",
              "    </tr>\n",
              "    <tr>\n",
              "      <th>...</th>\n",
              "      <td>...</td>\n",
              "      <td>...</td>\n",
              "    </tr>\n",
              "    <tr>\n",
              "      <th>1495</th>\n",
              "      <td>1.085109e+06</td>\n",
              "      <td>1.152047e+06</td>\n",
              "    </tr>\n",
              "    <tr>\n",
              "      <th>1496</th>\n",
              "      <td>1.285210e+06</td>\n",
              "      <td>1.312637e+06</td>\n",
              "    </tr>\n",
              "    <tr>\n",
              "      <th>1497</th>\n",
              "      <td>5.524656e+05</td>\n",
              "      <td>5.089516e+05</td>\n",
              "    </tr>\n",
              "    <tr>\n",
              "      <th>1498</th>\n",
              "      <td>1.406920e+06</td>\n",
              "      <td>1.353635e+06</td>\n",
              "    </tr>\n",
              "    <tr>\n",
              "      <th>1499</th>\n",
              "      <td>1.283780e+06</td>\n",
              "      <td>1.390251e+06</td>\n",
              "    </tr>\n",
              "  </tbody>\n",
              "</table>\n",
              "<p>1500 rows × 2 columns</p>\n",
              "</div>"
            ],
            "text/plain": [
              "        Prediction        Actual\n",
              "0     1.488033e+06  1.356385e+06\n",
              "1     9.951357e+05  1.044999e+06\n",
              "2     1.068088e+06  1.007225e+06\n",
              "3     1.439619e+06  1.462422e+06\n",
              "4     8.680552e+05  1.024973e+06\n",
              "...            ...           ...\n",
              "1495  1.085109e+06  1.152047e+06\n",
              "1496  1.285210e+06  1.312637e+06\n",
              "1497  5.524656e+05  5.089516e+05\n",
              "1498  1.406920e+06  1.353635e+06\n",
              "1499  1.283780e+06  1.390251e+06\n",
              "\n",
              "[1500 rows x 2 columns]"
            ]
          },
          "metadata": {
            "tags": []
          },
          "execution_count": 135
        }
      ]
    },
    {
      "cell_type": "markdown",
      "metadata": {
        "id": "EXIFxKUXwT-6"
      },
      "source": [
        "###Visualing Prediction using matplotlib"
      ]
    },
    {
      "cell_type": "code",
      "metadata": {
        "colab": {
          "base_uri": "https://localhost:8080/",
          "height": 293
        },
        "id": "Y0d-MC6fvQs6",
        "outputId": "4a92f3a4-a179-40aa-a755-0a101f08b25c"
      },
      "source": [
        "predicted_price1 = predicted_price_df.head(25)\n",
        "plt.scatter(predicted_price1.index.values, predicted_price1['Prediction'], alpha=0.7, color='red')\n",
        "plt.scatter(predicted_price1.index.values, predicted_price1['Actual'], alpha=0.3, color='green', s=100)\n",
        "plt.legend(['Prediction', 'Actual'])"
      ],
      "execution_count": null,
      "outputs": [
        {
          "output_type": "execute_result",
          "data": {
            "text/plain": [
              "<matplotlib.legend.Legend at 0x7fc16767bc10>"
            ]
          },
          "metadata": {
            "tags": []
          },
          "execution_count": 139
        },
        {
          "output_type": "display_data",
          "data": {
            "image/png": "[encoded data removed]",
            "text/plain": [
              "<Figure size 432x288 with 1 Axes>"
            ]
          },
          "metadata": {
            "tags": [],
            "needs_background": "light"
          }
        }
      ]
    }
  ]
}